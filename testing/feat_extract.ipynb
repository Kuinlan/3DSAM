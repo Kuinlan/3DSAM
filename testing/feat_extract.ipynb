{
 "cells": [
  {
   "cell_type": "code",
   "execution_count": 2,
   "metadata": {},
   "outputs": [
    {
     "name": "stderr",
     "output_type": "stream",
     "text": [
      "/home/morgen/.conda/envs/3dsam/lib/python3.8/site-packages/tqdm/auto.py:21: TqdmWarning: IProgress not found. Please update jupyter and ipywidgets. See https://ipywidgets.readthedocs.io/en/stable/user_install.html\n",
      "  from .autonotebook import tqdm as notebook_tqdm\n",
      "/home/morgen/.conda/envs/3dsam/lib/python3.8/site-packages/timm/models/_factory.py:117: UserWarning: Mapping deprecated model name vit_base_resnet50_384 to current vit_base_r50_s16_384.orig_in21k_ft_in1k.\n",
      "  model = create_fn(\n"
     ]
    }
   ],
   "source": [
    "# change working dir\n",
    "import os\n",
    "os.chdir('../')\n",
    "\n",
    "import torch\n",
    "from src.datasets.scannet import ScanNetDataset\n",
    "from src.threedsam.backbone import build_backbone\n",
    "from src.threedsam.threedsam_modules.structure_extract import StructureExtractor\n",
    "from src.threedsam.utils.supervision import spvs_coarse\n",
    "from src.threedsam.utils.index_padding import anchor_index_padding\n",
    "from src.config.default import get_cfg_defaults\n",
    "from src.utils.misc import lower_config\n",
    "\n",
    "root_dir = '/media/morgen/T7/dataset/scannet_train'\n",
    "npz_path = '/media/morgen/T7/dataset/scannet_indices/scene_data/train/scene0066_00.npz'\n",
    "intrinsic_path = '/media/morgen/T7/dataset/scannet_indices/intrinsics.npz'\n",
    "dpt_weight_path = '/home/morgen/projects/3DSAM/weights/dpt/dpt_hybrid_nyu-2ce69ec7.pt'\n",
    "dataset = ScanNetDataset(root_dir, npz_path, intrinsic_path, dpt_weight_path)"
   ]
  },
  {
   "cell_type": "code",
   "execution_count": 3,
   "metadata": {},
   "outputs": [],
   "source": [
    "sample = dataset[10]\n",
    "sample.keys()\n",
    "\n",
    "config = get_cfg_defaults()\n",
    "config_SE = lower_config(config['THREEDSAM']['EXTRACTOR'])"
   ]
  },
  {
   "cell_type": "code",
   "execution_count": 4,
   "metadata": {},
   "outputs": [],
   "source": [
    "extra_data = dict(\n",
    "    hw0_i = (480, 640),\n",
    "    hw1_i = (480, 640),\n",
    "    hw0_c_16 = (30, 40), \n",
    "    hw1_c_16 = (30, 40),\n",
    "    hw0_c = (60, 80),\n",
    "    hw1_c = (60, 80),\n",
    ")"
   ]
  },
  {
   "cell_type": "code",
   "execution_count": 5,
   "metadata": {},
   "outputs": [],
   "source": [
    "sample['image0'] = sample['image0'].unsqueeze(0).cuda()\n",
    "sample['image1'] = sample['image1'].unsqueeze(0).cuda()\n",
    "sample['depth0'] = sample['depth0'].unsqueeze(0).cuda()\n",
    "sample['depth1'] = sample['depth1'].unsqueeze(0).cuda()\n",
    "sample['pts_3d0'] = sample['pts_3d0'].unsqueeze(0).cuda()\n",
    "sample['pts_3d1'] = sample['pts_3d1'].unsqueeze(0).cuda()\n",
    "sample['T_0to1'] = sample['T_0to1'].unsqueeze(0).cuda()\n",
    "sample['T_1to0'] = sample['T_1to0'].unsqueeze(0).cuda()\n",
    "sample['K0'] = sample['K0'].unsqueeze(0).cuda()\n",
    "sample['K1'] = sample['K1'].unsqueeze(0).cuda()\n",
    "\n",
    "sample['pts_3d0'] = sample['pts_3d0'].view(1, 480*640, 3)\n",
    "sample['pts_3d1'] = sample['pts_3d1'].view(1, 480*640, 3)\n",
    "\n",
    "data = {**sample, **extra_data}"
   ]
  },
  {
   "cell_type": "code",
   "execution_count": 6,
   "metadata": {},
   "outputs": [
    {
     "data": {
      "text/plain": [
       "torch.Size([1, 307200, 3])"
      ]
     },
     "execution_count": 6,
     "metadata": {},
     "output_type": "execute_result"
    }
   ],
   "source": [
    "sample['pts_3d0'].shape"
   ]
  },
  {
   "cell_type": "code",
   "execution_count": 7,
   "metadata": {},
   "outputs": [],
   "source": [
    "# 监督测试\n",
    "spvs_coarse(data, config)"
   ]
  },
  {
   "cell_type": "code",
   "execution_count": 8,
   "metadata": {},
   "outputs": [],
   "source": [
    "# 锚点真值填充\n",
    "struct_extractor = StructureExtractor(config_SE)\n",
    "struct_extractor = struct_extractor.cuda().eval()"
   ]
  },
  {
   "cell_type": "code",
   "execution_count": 9,
   "metadata": {},
   "outputs": [],
   "source": [
    "N, L, C = 1, 4800, 256\n",
    "data['match_mask'] = torch.eye(L).unsqueeze(dim=0).cuda()\n",
    "feat0 = torch.randn((N, L, C), device='cuda:0')\n",
    "feat1 = torch.randn((N, L, C), device='cuda:0')\n",
    "\n",
    "aug_feat0, aug_feat1 = struct_extractor(feat0, feat1, data)"
   ]
  },
  {
   "cell_type": "code",
   "execution_count": null,
   "metadata": {},
   "outputs": [],
   "source": []
  }
 ],
 "metadata": {
  "kernelspec": {
   "display_name": "3dsam",
   "language": "python",
   "name": "python3"
  },
  "language_info": {
   "codemirror_mode": {
    "name": "ipython",
    "version": 3
   },
   "file_extension": ".py",
   "mimetype": "text/x-python",
   "name": "python",
   "nbconvert_exporter": "python",
   "pygments_lexer": "ipython3",
   "version": "3.8.18"
  }
 },
 "nbformat": 4,
 "nbformat_minor": 2
}
