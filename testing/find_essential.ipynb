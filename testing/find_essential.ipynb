{
 "cells": [
  {
   "cell_type": "code",
   "execution_count": 33,
   "metadata": {},
   "outputs": [],
   "source": [
    "import torch\n",
    "from kornia.geometry.epipolar import find_essential, decompose_essential_matrix"
   ]
  },
  {
   "cell_type": "code",
   "execution_count": 49,
   "metadata": {},
   "outputs": [],
   "source": [
    "B, N = 1, 5\n",
    "pts1 = torch.cat([torch.randperm(B*N).view(B, N, 1), \n",
    "                  torch.randperm(B*N).view(B, N, 1)], dim=-1).cuda()\n",
    "pts1 = pts1.to(torch.float32)\n",
    "pts3 = pts1.clone()\n",
    "pts2 = pts1\n",
    "# pts3[0] = pts1[0]+3\n",
    "# pts3[1] = pts1[1]+3\n",
    "# pts3[2] = pts1[2]+3\n"
   ]
  },
  {
   "cell_type": "code",
   "execution_count": 48,
   "metadata": {},
   "outputs": [
    {
     "name": "stdout",
     "output_type": "stream",
     "text": [
      "E shape: torch.Size([10, 3, 3])\n"
     ]
    },
    {
     "data": {
      "text/plain": [
       "torch.Size([1, 3, 3])"
      ]
     },
     "execution_count": 48,
     "metadata": {},
     "output_type": "execute_result"
    }
   ],
   "source": [
    "E_mat = find_essential(points1=pts1, points2=pts2)\n",
    "R_est, _, t_est = decompose_essential_matrix(E_mat)\n",
    "R_est.shape"
   ]
  },
  {
   "cell_type": "code",
   "execution_count": null,
   "metadata": {},
   "outputs": [],
   "source": []
  }
 ],
 "metadata": {
  "kernelspec": {
   "display_name": "3dsam",
   "language": "python",
   "name": "python3"
  },
  "language_info": {
   "codemirror_mode": {
    "name": "ipython",
    "version": 3
   },
   "file_extension": ".py",
   "mimetype": "text/x-python",
   "name": "python",
   "nbconvert_exporter": "python",
   "pygments_lexer": "ipython3",
   "version": "3.8.18"
  }
 },
 "nbformat": 4,
 "nbformat_minor": 2
}
