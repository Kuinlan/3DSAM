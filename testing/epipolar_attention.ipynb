{
 "cells": [
  {
   "cell_type": "code",
   "execution_count": 1,
   "metadata": {},
   "outputs": [
    {
     "name": "stderr",
     "output_type": "stream",
     "text": [
      "/home/morgen/.conda/envs/3dsam/lib/python3.8/site-packages/tqdm/auto.py:21: TqdmWarning: IProgress not found. Please update jupyter and ipywidgets. See https://ipywidgets.readthedocs.io/en/stable/user_install.html\n",
      "  from .autonotebook import tqdm as notebook_tqdm\n",
      "/home/morgen/.conda/envs/3dsam/lib/python3.8/site-packages/timm/models/_factory.py:117: UserWarning: Mapping deprecated model name vit_base_resnet50_384 to current vit_base_r50_s16_384.orig_in21k_ft_in1k.\n",
      "  model = create_fn(\n"
     ]
    }
   ],
   "source": [
    "# change working dir\n",
    "import os\n",
    "os.chdir('../')\n",
    "\n",
    "import torch\n",
    "from src.datasets.scannet import ScanNetDataset\n",
    "from src.threedsam.threedsam_modules.epipolar_attention import EpipolarAttention, CrossAttention\n",
    "\n",
    "root_dir = '/media/morgen/T7/dataset/scannet_train'\n",
    "npz_path = '/media/morgen/T7/dataset/scannet_indices/scene_data/train/scene0066_00.npz'\n",
    "intrinsic_path = '/media/morgen/T7/dataset/scannet_indices/intrinsics.npz'\n",
    "dpt_weight_path = '/home/morgen/projects/3DSAM/weights/dpt/dpt_hybrid_nyu-2ce69ec7.pt'\n",
    "dataset = ScanNetDataset(root_dir, npz_path, intrinsic_path, dpt_weight_path)"
   ]
  },
  {
   "cell_type": "code",
   "execution_count": 2,
   "metadata": {},
   "outputs": [
    {
     "data": {
      "text/plain": [
       "torch.Size([3, 3])"
      ]
     },
     "execution_count": 2,
     "metadata": {},
     "output_type": "execute_result"
    }
   ],
   "source": [
    "# load a sample\n",
    "sample = dataset[200]\n",
    "K0 = sample['K0']\n",
    "K1 = sample['K1']\n",
    "R = sample['T_0to1'][0:3, 0:3]\n",
    "t = sample['T_0to1'][0:3, [-1]]\n",
    "\n",
    "K0.shape"
   ]
  },
  {
   "cell_type": "code",
   "execution_count": 3,
   "metadata": {},
   "outputs": [
    {
     "data": {
      "text/plain": [
       "True"
      ]
     },
     "execution_count": 3,
     "metadata": {},
     "output_type": "execute_result"
    }
   ],
   "source": [
    "torch.cuda.is_available()"
   ]
  },
  {
   "cell_type": "code",
   "execution_count": 4,
   "metadata": {},
   "outputs": [
    {
     "data": {
      "text/plain": [
       "EpipolarAttention(\n",
       "  (layer): CrossAttention(\n",
       "    (q_proj): Linear(in_features=512, out_features=512, bias=False)\n",
       "    (k_proj): Linear(in_features=512, out_features=512, bias=False)\n",
       "    (v_proj): Linear(in_features=512, out_features=512, bias=False)\n",
       "    (attention): One2ManyAttention()\n",
       "    (merge): Linear(in_features=512, out_features=512, bias=False)\n",
       "    (mlp): Sequential(\n",
       "      (0): Linear(in_features=1024, out_features=1024, bias=False)\n",
       "      (1): ReLU(inplace=True)\n",
       "      (2): Linear(in_features=1024, out_features=512, bias=False)\n",
       "    )\n",
       "    (norm1): LayerNorm((512,), eps=1e-05, elementwise_affine=True)\n",
       "    (norm2): LayerNorm((512,), eps=1e-05, elementwise_affine=True)\n",
       "  )\n",
       ")"
      ]
     },
     "execution_count": 4,
     "metadata": {},
     "output_type": "execute_result"
    }
   ],
   "source": [
    "config = {\n",
    "    'd_model': 512,\n",
    "    'nhead': 8,\n",
    "    'area_width': 5\n",
    "}\n",
    "\n",
    "epi_info = {\n",
    "    'h0c': 30,\n",
    "    'w0c': 40,\n",
    "    'K0': K0.unsqueeze(dim=0).cuda(),\n",
    "    'K1': K1.unsqueeze(dim=0).cuda(),\n",
    "    'R': R.unsqueeze(dim=0).cuda(),\n",
    "    't': t.unsqueeze(dim=0).cuda(),\n",
    "    'scale': 16,\n",
    "}\n",
    "\n",
    "feat0 = torch.randn((1, 1200, 512)).cuda()\n",
    "feat1 = torch.randn((1, 1200, 512)).cuda()\n",
    "epi_attention = EpipolarAttention(config)\n",
    "epi_attention.to('cuda')\n",
    "\n",
    "# 806MB"
   ]
  },
  {
   "cell_type": "code",
   "execution_count": 5,
   "metadata": {},
   "outputs": [],
   "source": [
    "for itr in range(4):\n",
    "    feat0, feat1 = epi_attention(feat0, feat1, epi_info)"
   ]
  },
  {
   "cell_type": "code",
   "execution_count": 5,
   "metadata": {},
   "outputs": [
    {
     "data": {
      "text/plain": [
       "True"
      ]
     },
     "execution_count": 5,
     "metadata": {},
     "output_type": "execute_result"
    }
   ],
   "source": []
  },
  {
   "cell_type": "code",
   "execution_count": null,
   "metadata": {},
   "outputs": [],
   "source": []
  }
 ],
 "metadata": {
  "kernelspec": {
   "display_name": "3dsam",
   "language": "python",
   "name": "python3"
  },
  "language_info": {
   "codemirror_mode": {
    "name": "ipython",
    "version": 3
   },
   "file_extension": ".py",
   "mimetype": "text/x-python",
   "name": "python",
   "nbconvert_exporter": "python",
   "pygments_lexer": "ipython3",
   "version": "3.8.18"
  }
 },
 "nbformat": 4,
 "nbformat_minor": 2
}
