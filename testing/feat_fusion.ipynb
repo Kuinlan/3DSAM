{
 "cells": [
  {
   "cell_type": "code",
   "execution_count": 5,
   "metadata": {},
   "outputs": [
    {
     "name": "stderr",
     "output_type": "stream",
     "text": [
      "/home/morgen/.conda/envs/3dsam/lib/python3.8/site-packages/timm/models/_factory.py:117: UserWarning: Mapping deprecated model name vit_base_resnet50_384 to current vit_base_r50_s16_384.orig_in21k_ft_in1k.\n",
      "  model = create_fn(\n"
     ]
    }
   ],
   "source": [
    "# change working dir\n",
    "import os\n",
    "os.chdir('../')\n",
    "\n",
    "import torch\n",
    "from src.datasets.scannet import ScanNetDataset\n",
    "from src.threedsam.backbone import build_backbone\n",
    "from src.threedsam.threedsam_modules.feature_fusion import FeatureFusion\n",
    "\n",
    "root_dir = '/media/morgen/T7/dataset/scannet_train'\n",
    "npz_path = '/media/morgen/T7/dataset/scannet_indices/scene_data/train/scene0066_00.npz'\n",
    "intrinsic_path = '/media/morgen/T7/dataset/scannet_indices/intrinsics.npz'\n",
    "dpt_weight_path = '/home/morgen/projects/3DSAM/weights/dpt/dpt_hybrid_nyu-2ce69ec7.pt'\n",
    "dataset = ScanNetDataset(root_dir, npz_path, intrinsic_path, dpt_weight_path)"
   ]
  },
  {
   "cell_type": "code",
   "execution_count": 6,
   "metadata": {},
   "outputs": [],
   "source": [
    "# load a sample\n",
    "sample = dataset[200]\n",
    "sample.keys()\n",
    "\n",
    "config = {\n",
    "    'backbone_type': 'ResNetFPN',\n",
    "    'resnetfpn': {\n",
    "        'initial_dim': 64,\n",
    "        'block_dims': [64, 128, 256, 512, 1024]\n",
    "    }\n",
    "}\n",
    "\n",
    "backbone = build_backbone(config)\n",
    "feat_fusion = FeatureFusion(config['resnetfpn'])"
   ]
  },
  {
   "cell_type": "code",
   "execution_count": 8,
   "metadata": {},
   "outputs": [],
   "source": [
    "image0 = sample['image0'].unsqueeze(dim=0)\n",
    "image1 = sample['image1'].unsqueeze(dim=0)\n",
    "\n",
    "feat0_32, feat0_16, feat0_8, feat0_2 = backbone(image0)\n",
    "\n",
    "feat_out8, feat_out16, feat_out8 = feat_fusion(feat0_8, feat0_16, feat0_32)"
   ]
  },
  {
   "cell_type": "code",
   "execution_count": null,
   "metadata": {},
   "outputs": [],
   "source": []
  }
 ],
 "metadata": {
  "kernelspec": {
   "display_name": "3dsam",
   "language": "python",
   "name": "python3"
  },
  "language_info": {
   "codemirror_mode": {
    "name": "ipython",
    "version": 3
   },
   "file_extension": ".py",
   "mimetype": "text/x-python",
   "name": "python",
   "nbconvert_exporter": "python",
   "pygments_lexer": "ipython3",
   "version": "3.8.18"
  }
 },
 "nbformat": 4,
 "nbformat_minor": 2
}
